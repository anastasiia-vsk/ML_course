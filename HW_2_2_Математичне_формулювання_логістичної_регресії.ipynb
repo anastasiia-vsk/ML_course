{
  "nbformat": 4,
  "nbformat_minor": 0,
  "metadata": {
    "colab": {
      "provenance": [],
      "include_colab_link": true
    },
    "kernelspec": {
      "name": "python3",
      "display_name": "Python 3"
    },
    "language_info": {
      "name": "python"
    }
  },
  "cells": [
    {
      "cell_type": "markdown",
      "metadata": {
        "id": "view-in-github",
        "colab_type": "text"
      },
      "source": [
        "<a href=\"https://colab.research.google.com/github/anastasiia-vsk/ML_course/blob/main/HW_2_2_%D0%9C%D0%B0%D1%82%D0%B5%D0%BC%D0%B0%D1%82%D0%B8%D1%87%D0%BD%D0%B5_%D1%84%D0%BE%D1%80%D0%BC%D1%83%D0%BB%D1%8E%D0%B2%D0%B0%D0%BD%D0%BD%D1%8F_%D0%BB%D0%BE%D0%B3%D1%96%D1%81%D1%82%D0%B8%D1%87%D0%BD%D0%BE%D1%97_%D1%80%D0%B5%D0%B3%D1%80%D0%B5%D1%81%D1%96%D1%97.ipynb\" target=\"_parent\"><img src=\"https://colab.research.google.com/assets/colab-badge.svg\" alt=\"Open In Colab\"/></a>"
      ]
    },
    {
      "cell_type": "markdown",
      "source": [
        "В цьому домашньому завданні ми реалізуємо логістичну регресію на `numpy`.\n",
        "Ці завдання допоможуть вам ґрунтовно засвоїти основні концепції логістичної регресії та реалізувати їх на практиці 🔥\n",
        "\n",
        "#### Завдання 1: Реалізація функції сигмоїди\n",
        "1. З використанням `numpy` напишіть функцію `sigmoid(z)` для обчислення значення сигмоїди згідно з формулою:\n",
        "   $$\n",
        "   \\sigma(z) = \\frac{1}{1 + e^{-z}}\n",
        "   $$\n",
        "2. Використовуючи цю функцію, обчисліть значення сигмоїди для наступних даних: $ z = [-2, -1, 0, 1, 2] $. Виведіть результат обчислень.\n"
      ],
      "metadata": {
        "id": "KxRmdyv5CIZe"
      }
    },
    {
      "cell_type": "code",
      "source": [
        "import numpy as np"
      ],
      "metadata": {
        "id": "y6PjYef73czf"
      },
      "execution_count": 14,
      "outputs": []
    },
    {
      "cell_type": "code",
      "source": [
        "def sigmoid(z):\n",
        "    return 1 / (1 + np.exp(-z))"
      ],
      "metadata": {
        "id": "v9ilfXulL2wP"
      },
      "execution_count": 15,
      "outputs": []
    },
    {
      "cell_type": "code",
      "source": [
        "z = np.array([-2, -1, 0, 1, 2])\n",
        "\n",
        "sigmoid_values = sigmoid(z)\n",
        "\n",
        "print(\"Sigmoid values:\", sigmoid_values)"
      ],
      "metadata": {
        "colab": {
          "base_uri": "https://localhost:8080/"
        },
        "id": "Q0RELgO53kNB",
        "outputId": "fee68ada-e5f7-4556-b25c-082faec7f6ac"
      },
      "execution_count": 16,
      "outputs": [
        {
          "output_type": "stream",
          "name": "stdout",
          "text": [
            "Sigmoid values: [0.11920292 0.26894142 0.5        0.73105858 0.88079708]\n"
          ]
        }
      ]
    },
    {
      "cell_type": "markdown",
      "source": [
        "\n",
        "\n",
        "#### Завдання 2: Реалізація функції гіпотези для логістичної регресії\n",
        "1. Напишіть функцію `hypothesis(theta, X)`, яка обчислює гіпотезу для логістичної регресії, використовуючи функцію сигмоїди. Формула гіпотези:\n",
        "   $$\n",
        "   h_\\theta(x) = \\sigma(\\theta^T x) = \\frac{1}{1 + e^{-\\theta^T x}}\n",
        "   $$\n",
        "2. Використайте функцію `hypothesis` для обчислення значень гіпотези для наступних даних:\n",
        "   \n",
        "   $\\theta = [0.5, -0.5]$\n",
        "   \n",
        "   $X = \\begin{bmatrix} 1 & 2 \\\\ 1 & -1 \\\\ 1 & 0 \\\\ 1 & 1 \\end{bmatrix}$\n",
        "\n",
        "  Виведіть результат обчислень.\n"
      ],
      "metadata": {
        "id": "LVd_jCGNCR1F"
      }
    },
    {
      "cell_type": "code",
      "source": [
        "def hypothesis(theta, X):\n",
        "    return sigmoid(np.dot(X, theta))"
      ],
      "metadata": {
        "id": "dKDHv-YtL3TA"
      },
      "execution_count": 17,
      "outputs": []
    },
    {
      "cell_type": "code",
      "source": [
        "theta = np.array([0.5, -0.5])\n",
        "\n",
        "X = np.array([\n",
        "    [1, 2],\n",
        "    [1, -1],\n",
        "    [1, 0],\n",
        "    [1, 1]\n",
        "])"
      ],
      "metadata": {
        "id": "Ww73PAkE37o9"
      },
      "execution_count": 18,
      "outputs": []
    },
    {
      "cell_type": "code",
      "source": [
        "h = hypothesis(theta, X)\n",
        "\n",
        "print(\"Hypothesis values:\", h)"
      ],
      "metadata": {
        "colab": {
          "base_uri": "https://localhost:8080/"
        },
        "id": "8_5OXHSa4S1e",
        "outputId": "1c11a017-04b1-4a5f-e861-c35cbde5e559"
      },
      "execution_count": 20,
      "outputs": [
        {
          "output_type": "stream",
          "name": "stdout",
          "text": [
            "Hypothesis values: [0.37754067 0.73105858 0.62245933 0.5       ]\n"
          ]
        }
      ]
    },
    {
      "cell_type": "markdown",
      "source": [
        "#### Завдання 3: Реалізація функції для підрахунку градієнтів фукнції втрат\n",
        "1. Напишіть функцію `compute_gradient(theta, X, y)`, яка обчислює градієнти функції втрат для логістичної регресії. Формула для обчислення градієнта:\n",
        "   $$\n",
        "   \\frac{\\partial L(\\theta)}{\\partial \\theta_j} = \\frac{1}{m} \\sum_{i=1}^{m} \\left[ (h_\\theta(x^{(i)}) - y^{(i)}) x_j^{(i)} \\right]\n",
        "   $$\n",
        "2. Використайте функцію `compute_gradient` для обчислення градієнтів для наступних даних:\n",
        "\n",
        "  $\\theta = [0.5, -0.5]$\n",
        "\n",
        "  $X = \\begin{bmatrix} 1 & 2 \\\\ 1 & -1 \\\\ 1 & 0 \\\\ 1 & 1 \\end{bmatrix}$\n",
        "\n",
        "  $y = [1, 0, 1, 0]$\n",
        "\n",
        "  Виведіть результат обчислень."
      ],
      "metadata": {
        "id": "MWASH4Z4ClTo"
      }
    },
    {
      "cell_type": "code",
      "source": [
        "def compute_gradient(theta, X, y):\n",
        "    m = len(y)\n",
        "    h = hypothesis(theta, X)\n",
        "    gradient = (1 / m) * np.dot(X.T, (h - y))\n",
        "    return gradient"
      ],
      "metadata": {
        "id": "0DM4xqZCL32i"
      },
      "execution_count": 21,
      "outputs": []
    },
    {
      "cell_type": "code",
      "source": [
        "y = np.array([1, 0, 1, 0])"
      ],
      "metadata": {
        "id": "9UYg5NEp4xeM"
      },
      "execution_count": 22,
      "outputs": []
    },
    {
      "cell_type": "code",
      "source": [
        "gradients = compute_gradient(theta, X, y)\n",
        "\n",
        "print(\"Gradient:\", gradients)"
      ],
      "metadata": {
        "colab": {
          "base_uri": "https://localhost:8080/"
        },
        "id": "oIYcsQyp42a3",
        "outputId": "96d02c8f-4dbb-4021-a679-291432f2a4ad"
      },
      "execution_count": 23,
      "outputs": [
        {
          "output_type": "stream",
          "name": "stdout",
          "text": [
            "Gradient: [ 0.05776464 -0.36899431]\n"
          ]
        }
      ]
    },
    {
      "cell_type": "markdown",
      "source": [
        "\n",
        "#### Завдання 4: Реалізація повного батч градієнтного спуску\n",
        "\n",
        "**Задача:**\n",
        "1. Напишіть функцію `full_batch_gradient_descent(X, y, lr=0.1, epochs=100)`, яка реалізує алгоритм Full градієнтного спуску для логістичної регресії. Використовуйте такі формули:\n",
        "   - Гіпотеза: $ h_\\theta(x) = \\sigma(\\theta^T x) $\n",
        "   - Оновлення параметрів: $ \\theta_j := \\theta_j - \\alpha \\frac{\\partial L(\\theta)}{\\partial \\theta_j} $\n",
        "2. Використайте функцію `full_batch_gradient_descent` для обчислення параметрів моделі на наступних даних:\n",
        "\n",
        "  $X = \\begin{bmatrix} 1 & 2 \\\\ 1 & -1 \\\\ 1 & 0 \\\\ 1 & 1 \\end{bmatrix}$\n",
        "\n",
        "  $y = [1, 0, 1, 0]$\n",
        "\n",
        "  Увага! Матриця $X$ вже має стовпець одиниць і передбачається, що це. - стовпець для intercept - параметра зсуву.\n",
        "\n",
        "  Виведіть результат обчислень.\n"
      ],
      "metadata": {
        "id": "nOtJEtdnC1K9"
      }
    },
    {
      "cell_type": "code",
      "source": [
        "def full_batch_gradient_descent(X, y, lr=0.1, epochs=100):\n",
        "    theta = np.zeros(X.shape[1])\n",
        "\n",
        "    for epoch in range(epochs):\n",
        "        grad = compute_gradient(theta, X, y)  # градієнт\n",
        "        theta = theta - lr * grad             # оновлення параметрів\n",
        "\n",
        "        print(f\"Epoch {epoch + 1}: theta = {theta}, gradient = {grad}\")\n",
        "\n",
        "    return theta"
      ],
      "metadata": {
        "id": "fHtUOTxXL4Yy"
      },
      "execution_count": 24,
      "outputs": []
    },
    {
      "cell_type": "code",
      "source": [
        "final_theta = full_batch_gradient_descent(X, y, lr=0.1, epochs=100)"
      ],
      "metadata": {
        "colab": {
          "base_uri": "https://localhost:8080/"
        },
        "id": "eZ11sbRz8eMv",
        "outputId": "16ef503f-7a80-44fd-d5de-741cef304452"
      },
      "execution_count": 26,
      "outputs": [
        {
          "output_type": "stream",
          "name": "stdout",
          "text": [
            "Epoch 1: theta = [0.    0.025], gradient = [ 0.   -0.25]\n",
            "Epoch 2: theta = [-0.00031243  0.04906265], gradient = [ 0.00312435 -0.24062646]\n",
            "Epoch 3: theta = [-0.00091742  0.0722278 ], gradient = [ 0.00604988 -0.23165153]\n",
            "Epoch 4: theta = [-0.00179581  0.09453419], gradient = [ 0.0087839  -0.22306392]\n",
            "Epoch 5: theta = [-0.00292924  0.1160193 ], gradient = [ 0.01133423 -0.21485113]\n",
            "Epoch 6: theta = [-0.00430014  0.13671929], gradient = [ 0.01370902 -0.20699981]\n",
            "Epoch 7: theta = [-0.0058918   0.15666889], gradient = [ 0.01591657 -0.19949605]\n",
            "Epoch 8: theta = [-0.00768832  0.17590146], gradient = [ 0.01796523 -0.19232565]\n",
            "Epoch 9: theta = [-0.00967464  0.19444889], gradient = [ 0.01986326 -0.18547433]\n",
            "Epoch 10: theta = [-0.01183652  0.21234168], gradient = [ 0.02161881 -0.17892789]\n",
            "Epoch 11: theta = [-0.01416051  0.22960891], gradient = [ 0.0232398  -0.17267234]\n",
            "Epoch 12: theta = [-0.0166339   0.24627831], gradient = [ 0.02473393 -0.16669402]\n",
            "Epoch 13: theta = [-0.01924476  0.26237628], gradient = [ 0.02610858 -0.16097965]\n",
            "Epoch 14: theta = [-0.02198184  0.27792792], gradient = [ 0.02737085 -0.15551639]\n",
            "Epoch 15: theta = [-0.02483459  0.29295711], gradient = [ 0.0285275  -0.15029191]\n",
            "Epoch 16: theta = [-0.02779309  0.30748655], gradient = [ 0.02958498 -0.14529437]\n",
            "Epoch 17: theta = [-0.03084803  0.32153779], gradient = [ 0.03054941 -0.14051245]\n",
            "Epoch 18: theta = [-0.03399069  0.33513133], gradient = [ 0.03142659 -0.13593536]\n",
            "Epoch 19: theta = [-0.03721289  0.34828661], gradient = [ 0.03222198 -0.13155284]\n",
            "Epoch 20: theta = [-0.04050696  0.36102212], gradient = [ 0.03294076 -0.12735512]\n",
            "Epoch 21: theta = [-0.04386574  0.37335542], gradient = [ 0.03358779 -0.12333295]\n",
            "Epoch 22: theta = [-0.04728251  0.38530317], gradient = [ 0.03416767 -0.11947754]\n",
            "Epoch 23: theta = [-0.05075098  0.39688123], gradient = [ 0.0346847  -0.11578059]\n",
            "Epoch 24: theta = [-0.05426527  0.40810465], gradient = [ 0.03514294 -0.11223424]\n",
            "Epoch 25: theta = [-0.05781989  0.41898776], gradient = [ 0.03554618 -0.10883104]\n",
            "Epoch 26: theta = [-0.06140969  0.42954415], gradient = [ 0.03589801 -0.10556395]\n",
            "Epoch 27: theta = [-0.06502987  0.43978679], gradient = [ 0.03620178 -0.10242634]\n",
            "Epoch 28: theta = [-0.06867593  0.44972798], gradient = [ 0.03646062 -0.09941193]\n",
            "Epoch 29: theta = [-0.07234368  0.45937946], gradient = [ 0.03667749 -0.09651476]\n",
            "Epoch 30: theta = [-0.0760292   0.46875238], gradient = [ 0.03685515 -0.09372923]\n",
            "Epoch 31: theta = [-0.07972881  0.47785738], gradient = [ 0.03699619 -0.09105005]\n",
            "Epoch 32: theta = [-0.08343912  0.4867046 ], gradient = [ 0.03710304 -0.08847219]\n",
            "Epoch 33: theta = [-0.08715692  0.4953037 ], gradient = [ 0.03717799 -0.08599092]\n",
            "Epoch 34: theta = [-0.09087923  0.50366387], gradient = [ 0.03722316 -0.08360176]\n",
            "Epoch 35: theta = [-0.09460329  0.51179392], gradient = [ 0.03724056 -0.08130048]\n",
            "Epoch 36: theta = [-0.0983265   0.51970223], gradient = [ 0.03723208 -0.07908306]\n",
            "Epoch 37: theta = [-0.10204644  0.5273968 ], gradient = [ 0.03719946 -0.07694571]\n",
            "Epoch 38: theta = [-0.10576088  0.53488528], gradient = [ 0.03714436 -0.07488483]\n",
            "Epoch 39: theta = [-0.10946771  0.54217498], gradient = [ 0.03706834 -0.07289704]\n",
            "Epoch 40: theta = [-0.113165    0.54927289], gradient = [ 0.03697284 -0.07097909]\n",
            "Epoch 41: theta = [-0.11685092  0.55618569], gradient = [ 0.03685922 -0.06912795]\n",
            "Epoch 42: theta = [-0.1205238   0.56291976], gradient = [ 0.03672878 -0.06734071]\n",
            "Epoch 43: theta = [-0.12418207  0.56948122], gradient = [ 0.03658272 -0.06561463]\n",
            "Epoch 44: theta = [-0.12782428  0.57587593], gradient = [ 0.03642215 -0.0639471 ]\n",
            "Epoch 45: theta = [-0.1314491  0.5821095], gradient = [ 0.03624814 -0.06233565]\n",
            "Epoch 46: theta = [-0.13505527  0.58818729], gradient = [ 0.03606169 -0.06077792]\n",
            "Epoch 47: theta = [-0.13864164  0.59411446], gradient = [ 0.03586372 -0.05927168]\n",
            "Epoch 48: theta = [-0.14220715  0.59989594], gradient = [ 0.03565513 -0.05781482]\n",
            "Epoch 49: theta = [-0.14575082  0.60553647], gradient = [ 0.03543672 -0.05640531]\n",
            "Epoch 50: theta = [-0.14927175  0.61104059], gradient = [ 0.03520929 -0.05504124]\n",
            "Epoch 51: theta = [-0.15276911  0.61641267], gradient = [ 0.03497355 -0.05372077]\n",
            "Epoch 52: theta = [-0.15624213  0.62165689], gradient = [ 0.03473019 -0.05244218]\n",
            "Epoch 53: theta = [-0.15969011  0.62677727], gradient = [ 0.03447986 -0.05120379]\n",
            "Epoch 54: theta = [-0.16311243  0.63177767], gradient = [ 0.03422315 -0.05000404]\n",
            "Epoch 55: theta = [-0.16650849  0.63666181], gradient = [ 0.03396064 -0.04884142]\n",
            "Epoch 56: theta = [-0.16987778  0.64143326], gradient = [ 0.03369287 -0.04771449]\n",
            "Epoch 57: theta = [-0.17321981  0.64609545], gradient = [ 0.03342033 -0.04662189]\n",
            "Epoch 58: theta = [-0.17653416  0.65065168], gradient = [ 0.0331435  -0.04556231]\n",
            "Epoch 59: theta = [-0.17982044  0.65510513], gradient = [ 0.03286282 -0.0445345 ]\n",
            "Epoch 60: theta = [-0.18307832  0.65945886], gradient = [ 0.03257872 -0.04353728]\n",
            "Epoch 61: theta = [-0.18630747  0.66371581], gradient = [ 0.03229157 -0.0425695 ]\n",
            "Epoch 62: theta = [-0.18950765  0.66787882], gradient = [ 0.03200176 -0.04163008]\n",
            "Epoch 63: theta = [-0.19267861  0.67195062], gradient = [ 0.03170963 -0.04071798]\n",
            "Epoch 64: theta = [-0.19582016  0.67593384], gradient = [ 0.0314155 -0.0398322]\n",
            "Epoch 65: theta = [-0.19893213  0.67983102], gradient = [ 0.03111969 -0.03897179]\n",
            "Epoch 66: theta = [-0.20201438  0.6836446 ], gradient = [ 0.03082248 -0.03813585]\n",
            "Epoch 67: theta = [-0.20506679  0.68737695], gradient = [ 0.03052414 -0.0373235 ]\n",
            "Epoch 68: theta = [-0.20808928  0.69103034], gradient = [ 0.03022492 -0.03653391]\n",
            "Epoch 69: theta = [-0.21108179  0.69460697], gradient = [ 0.02992507 -0.03576627]\n",
            "Epoch 70: theta = [-0.21404427  0.69810895], gradient = [ 0.0296248  -0.03501983]\n",
            "Epoch 71: theta = [-0.21697671  0.70153834], gradient = [ 0.02932434 -0.03429385]\n",
            "Epoch 72: theta = [-0.21987909  0.7048971 ], gradient = [ 0.02902387 -0.03358762]\n",
            "Epoch 73: theta = [-0.22275145  0.70818715], gradient = [ 0.02872358 -0.03290046]\n",
            "Epoch 74: theta = [-0.22559382  0.71141032], gradient = [ 0.02842365 -0.03223174]\n",
            "Epoch 75: theta = [-0.22840624  0.7145684 ], gradient = [ 0.02812423 -0.03158083]\n",
            "Epoch 76: theta = [-0.23118879  0.71766312], gradient = [ 0.02782548 -0.03094713]\n",
            "Epoch 77: theta = [-0.23394154  0.72069612], gradient = [ 0.02752754 -0.03033007]\n",
            "Epoch 78: theta = [-0.23666459  0.72366903], gradient = [ 0.02723054 -0.02972909]\n",
            "Epoch 79: theta = [-0.23935806  0.7265834 ], gradient = [ 0.02693462 -0.02914368]\n",
            "Epoch 80: theta = [-0.24202204  0.72944073], gradient = [ 0.02663987 -0.02857332]\n",
            "Epoch 81: theta = [-0.24465669  0.73224248], gradient = [ 0.02634642 -0.02801752]\n",
            "Epoch 82: theta = [-0.24726212  0.73499007], gradient = [ 0.02605437 -0.02747582]\n",
            "Epoch 83: theta = [-0.2498385   0.73768484], gradient = [ 0.0257638  -0.02694776]\n",
            "Epoch 84: theta = [-0.25238598  0.74032813], gradient = [ 0.0254748  -0.02643291]\n",
            "Epoch 85: theta = [-0.25490473  0.74292122], gradient = [ 0.02518747 -0.02593085]\n",
            "Epoch 86: theta = [-0.25739491  0.74546534], gradient = [ 0.02490186 -0.02544118]\n",
            "Epoch 87: theta = [-0.25985672  0.74796169], gradient = [ 0.02461806 -0.02496351]\n",
            "Epoch 88: theta = [-0.26229033  0.75041143], gradient = [ 0.02433612 -0.02449747]\n",
            "Epoch 89: theta = [-0.26469594  0.7528157 ], gradient = [ 0.0240561  -0.02404269]\n",
            "Epoch 90: theta = [-0.26707375  0.75517559], gradient = [ 0.02377807 -0.02359885]\n",
            "Epoch 91: theta = [-0.26942396  0.75749215], gradient = [ 0.02350207 -0.02316559]\n",
            "Epoch 92: theta = [-0.27174677  0.75976641], gradient = [ 0.02322814 -0.0227426 ]\n",
            "Epoch 93: theta = [-0.2740424   0.76199936], gradient = [ 0.02295634 -0.02232957]\n",
            "Epoch 94: theta = [-0.27631107  0.76419198], gradient = [ 0.02268669 -0.02192621]\n",
            "Epoch 95: theta = [-0.278553    0.76634521], gradient = [ 0.02241923 -0.02153222]\n",
            "Epoch 96: theta = [-0.2807684   0.76845994], gradient = [ 0.022154   -0.02114733]\n",
            "Epoch 97: theta = [-0.2829575   0.77053707], gradient = [ 0.02189102 -0.02077126]\n",
            "Epoch 98: theta = [-0.28512053  0.77257744], gradient = [ 0.02163032 -0.02040377]\n",
            "Epoch 99: theta = [-0.28725772  0.7745819 ], gradient = [ 0.02137192 -0.0200446 ]\n",
            "Epoch 100: theta = [-0.2893693   0.77655125], gradient = [ 0.02111584 -0.01969352]\n"
          ]
        }
      ]
    },
    {
      "cell_type": "code",
      "source": [
        "print(\"Final theta:\", final_theta)"
      ],
      "metadata": {
        "colab": {
          "base_uri": "https://localhost:8080/"
        },
        "id": "cOXtyabP8mWQ",
        "outputId": "937d9671-d668-425e-ab88-e1453b1bd1f4"
      },
      "execution_count": 27,
      "outputs": [
        {
          "output_type": "stream",
          "name": "stdout",
          "text": [
            "Final theta: [-0.2893693   0.77655125]\n"
          ]
        }
      ]
    },
    {
      "cell_type": "markdown",
      "source": [
        "#### Завдання 5. Обчислення точності моделі\n",
        "\n",
        "1. Напишіть функцію `predict_proba(theta, X)`, яка використовує знайдені параметри $\\theta$ для обчислення ймовірностей належності поточного прикладу з даних до класу $y=1$ на основі значень $\\sigma(\\theta^T x)$.\n",
        "\n",
        "2. Напишіть функцію `predict(theta, X, threshold=0.5)`, яка обчислює клас з передбаченої імовірності належності екземпляра до класу 1 з порогом 0.5. Тобто якщо ймовірність менше 0.5, то передбачаємо клас 0, інакше клас 1.\n",
        "\n",
        "3. Напишіть функцію `accuracy(y_true, y_pred)`, яка обчислює точність моделі, визначивши частку правильно передбачених класів.\n",
        "\n",
        "  Формула метрики Accuracy:\n",
        "  $$\n",
        "  \\text{Accuracy} = \\frac{\\sum_{i=1}^{m} I(\\hat{{y}^{(i)}} = y^{(i)})}{m}\n",
        "  $$\n",
        "\n",
        "  де $\\hat{{y}^{(i)}}$ - передбачене значення класу, $I$ - індикаторна функція (яка дорівнює 1, якщо умова виконується, і 0 - якщо ні), $m$ - кількість прикладів.\n",
        "\n",
        "4. Обчисліть з використанням даних в завданні 4 $X$, $y$ та обчислених коефіцієнтах $\\theta$ та виведіть на екран:\n",
        "  - передбачені моделлю імовірності належності кожного з екземплярів в матриці `X` до класу 1\n",
        "  - класи кожного екземпляра з матриці `X`\n",
        "  - точність моделі."
      ],
      "metadata": {
        "id": "E4iZV55cE5f3"
      }
    },
    {
      "cell_type": "code",
      "source": [
        "def predict_proba(theta, X):\n",
        "    return sigmoid(np.dot(X, theta))"
      ],
      "metadata": {
        "id": "85ZZfPtjrsai"
      },
      "execution_count": 28,
      "outputs": []
    },
    {
      "cell_type": "code",
      "source": [
        "def predict(theta, X, threshold=0.5):\n",
        "    probs = predict_proba(theta, X)\n",
        "    return (probs >= threshold).astype(int)"
      ],
      "metadata": {
        "id": "NnjL6wai-9Pn"
      },
      "execution_count": 29,
      "outputs": []
    },
    {
      "cell_type": "code",
      "source": [
        "def accuracy(y_true, y_pred):\n",
        "    return np.mean(y_true == y_pred)\n",
        "\n",
        "# 1st variant\n",
        "# def accuracy(y_true, y_pred):\n",
        "#     m = len(y_true)\n",
        "#     correct_predictions = np.sum(y_true == y_pred)\n",
        "#     return correct_predictions / m"
      ],
      "metadata": {
        "id": "bXh4cdJ4_Dj7"
      },
      "execution_count": 30,
      "outputs": []
    },
    {
      "cell_type": "code",
      "source": [
        "probas = predict_proba(final_theta, X)\n",
        "print(\"Predicted probabilities:\", probas)"
      ],
      "metadata": {
        "colab": {
          "base_uri": "https://localhost:8080/"
        },
        "id": "IQBoa2eE_ayH",
        "outputId": "c7e75e65-6e5d-4687-cdca-2029a5a0c873"
      },
      "execution_count": 31,
      "outputs": [
        {
          "output_type": "stream",
          "name": "stdout",
          "text": [
            "Predicted probabilities: [0.77966809 0.25617965 0.42815828 0.61944235]\n"
          ]
        }
      ]
    },
    {
      "cell_type": "code",
      "source": [
        "preds = predict(theta, X)\n",
        "print(\"Predicted classes:\", preds)"
      ],
      "metadata": {
        "colab": {
          "base_uri": "https://localhost:8080/"
        },
        "id": "4_4k0bx5_3Fm",
        "outputId": "3030498a-8603-4d6e-ed17-68f22129d64e"
      },
      "execution_count": 32,
      "outputs": [
        {
          "output_type": "stream",
          "name": "stdout",
          "text": [
            "Predicted classes: [0 1 1 1]\n"
          ]
        }
      ]
    },
    {
      "cell_type": "code",
      "source": [
        "acc = accuracy(y, preds)\n",
        "print(\"Accuracy:\", acc)"
      ],
      "metadata": {
        "colab": {
          "base_uri": "https://localhost:8080/"
        },
        "id": "dTHG-8CQ_5RU",
        "outputId": "52f77225-7e59-4a47-bfa5-677601db0161"
      },
      "execution_count": 33,
      "outputs": [
        {
          "output_type": "stream",
          "name": "stdout",
          "text": [
            "Accuracy: 0.25\n"
          ]
        }
      ]
    }
  ]
}