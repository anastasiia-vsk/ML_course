{
  "nbformat": 4,
  "nbformat_minor": 0,
  "metadata": {
    "colab": {
      "provenance": []
    },
    "kernelspec": {
      "name": "python3",
      "display_name": "Python 3"
    },
    "language_info": {
      "name": "python"
    }
  },
  "cells": [
    {
      "cell_type": "markdown",
      "source": [
        "В цьому домашньому завданні відпрацюємо з вами знання, отримані в модулі зі статистики.\n",
        "\n"
      ],
      "metadata": {
        "id": "RP5vo9mCu-qm"
      }
    },
    {
      "cell_type": "code",
      "source": [
        "import numpy as np"
      ],
      "metadata": {
        "id": "Ni0UrNkNu6_i"
      },
      "execution_count": 1,
      "outputs": []
    },
    {
      "cell_type": "markdown",
      "source": [
        "\n",
        "**Завдання 1.** Ми обговорили з Вами на лекції, що велика літера Сігма грецького алфавіту позначає в математиці суму. Знайдіть з використанням Python $\\Sigma x$, $\\Sigma x^2$, та $\\Sigma (x-1)^2$ для наступного набору даних:\n",
        "`1 3 4`\n",
        "Виведіть результат кожного обчислення на екран."
      ],
      "metadata": {
        "id": "SDhaTqxcWhnP"
      }
    },
    {
      "cell_type": "code",
      "source": [
        "x = [1, 3, 4]"
      ],
      "metadata": {
        "id": "B1mgx_IBT0e8"
      },
      "execution_count": 2,
      "outputs": []
    },
    {
      "cell_type": "code",
      "source": [
        "# Σ𝑥\n",
        "sum_x = sum(x)\n",
        "sum_x"
      ],
      "metadata": {
        "colab": {
          "base_uri": "https://localhost:8080/"
        },
        "id": "TEiKXEubOfgO",
        "outputId": "eb59faef-fe71-4e4d-b942-5fbca9c899c7"
      },
      "execution_count": 3,
      "outputs": [
        {
          "output_type": "execute_result",
          "data": {
            "text/plain": [
              "8"
            ]
          },
          "metadata": {},
          "execution_count": 3
        }
      ]
    },
    {
      "cell_type": "code",
      "source": [
        "# Σ𝑥^2\n",
        "sum_x_sqrt = sum([(el)**2 for el in x])\n",
        "sum_x_sqrt"
      ],
      "metadata": {
        "colab": {
          "base_uri": "https://localhost:8080/"
        },
        "id": "L03dzfc9OlMn",
        "outputId": "4fb164a8-5e49-4fb0-d485-2de4e62a4794"
      },
      "execution_count": 4,
      "outputs": [
        {
          "output_type": "execute_result",
          "data": {
            "text/plain": [
              "26"
            ]
          },
          "metadata": {},
          "execution_count": 4
        }
      ]
    },
    {
      "cell_type": "code",
      "source": [
        "# Σ(𝑥−1)^2\n",
        "sum_3 = sum([(el - 1)**2 for el in x])\n",
        "sum_3"
      ],
      "metadata": {
        "colab": {
          "base_uri": "https://localhost:8080/"
        },
        "id": "WlDny4SItUDS",
        "outputId": "b0aaa633-409e-4faf-9fb4-fae8ef2b1154"
      },
      "execution_count": 5,
      "outputs": [
        {
          "output_type": "execute_result",
          "data": {
            "text/plain": [
              "13"
            ]
          },
          "metadata": {},
          "execution_count": 5
        }
      ]
    },
    {
      "cell_type": "markdown",
      "source": [
        "**Завдання 2.** Ми зібрали дані про суму покупок в гривнях 20ма випадково обраними клієнтами в нашому магазині (всього клієнтів у нас більше) за минулий місяць. Вони представлені в змінній `sum_purchases`. Знайдіть **вибіркове середнє** для цих даних кожним з зазначених методів:   \n",
        "\n",
        "  2.1. без використання жодних бібліотек, користуючись тільки Python.  \n",
        "  2.2. використовуючи відповідний метод бібліотеки `numpy`.\n",
        "\n",
        "  Виведіть результат обчислень в кожному з випадків на екран та порівняйте результати. Вони співпадають?"
      ],
      "metadata": {
        "id": "fa78aW5lhiia"
      }
    },
    {
      "cell_type": "code",
      "execution_count": 6,
      "metadata": {
        "id": "_9kMt3rq6V5m"
      },
      "outputs": [],
      "source": [
        "sum_purchases = [316,  493,  367,  153,  224,  121,  322,  450,  196,  397,  281, 239,  484,  124,  223,  448,  432,  255, 4310, 3524]"
      ]
    },
    {
      "cell_type": "code",
      "source": [
        "# без використання жодних бібліотек\n",
        "mean = sum(sum_purchases)/len(sum_purchases)\n",
        "mean"
      ],
      "metadata": {
        "id": "wPmL919HT1c0",
        "colab": {
          "base_uri": "https://localhost:8080/"
        },
        "outputId": "710823a0-d8b2-440b-f35b-e998eacf4cfa"
      },
      "execution_count": 7,
      "outputs": [
        {
          "output_type": "execute_result",
          "data": {
            "text/plain": [
              "667.95"
            ]
          },
          "metadata": {},
          "execution_count": 7
        }
      ]
    },
    {
      "cell_type": "code",
      "source": [
        "# використовуючи відповідний метод бібліотеки numpy\n",
        "mean_np = np.mean(sum_purchases)\n",
        "mean_np"
      ],
      "metadata": {
        "colab": {
          "base_uri": "https://localhost:8080/"
        },
        "id": "SCzwuNA0uzpE",
        "outputId": "761f163b-ff9f-40f7-ae95-2fddb6e92a91"
      },
      "execution_count": 8,
      "outputs": [
        {
          "output_type": "execute_result",
          "data": {
            "text/plain": [
              "667.95"
            ]
          },
          "metadata": {},
          "execution_count": 8
        }
      ]
    },
    {
      "cell_type": "markdown",
      "source": [
        "\n",
        "\n",
        "> Результати співпадають\n"
      ],
      "metadata": {
        "id": "bXJ-2WruvNkN"
      }
    },
    {
      "cell_type": "markdown",
      "source": [
        "**Завдання 3.** Для того ж набору даних в змінній `sum_purchases` обчисліть **медіану** кожним з зазначених методів:  \n",
        "\n",
        "  3.1. без використання жодних бібліотек, користуючись тільки Python.  \n",
        "  3.2. використовуючи відповідний метод бібліотеки numpy.  \n",
        "\n",
        "Виведіть результат обчислень в кожному з випадків на екран. Порівняйте результати зі значенням вибіркового середнього. Напишіть коментар, для яких задач ви б використовували вибіркове середнє, а для яких - медіану?"
      ],
      "metadata": {
        "id": "FMdoxZd0kZdW"
      }
    },
    {
      "cell_type": "code",
      "source": [
        "# без використання жодних бібліотек\n",
        "median = (sorted(sum_purchases)[len(sum_purchases)//2-1] + sorted(sum_purchases)[len(sum_purchases)//2])/2\n",
        "median"
      ],
      "metadata": {
        "id": "x58BumvuT2nl",
        "colab": {
          "base_uri": "https://localhost:8080/"
        },
        "outputId": "3e2bab34-a2aa-48c8-f109-e45fb184c747"
      },
      "execution_count": 9,
      "outputs": [
        {
          "output_type": "execute_result",
          "data": {
            "text/plain": [
              "319.0"
            ]
          },
          "metadata": {},
          "execution_count": 9
        }
      ]
    },
    {
      "cell_type": "code",
      "source": [
        "median_np = np.median(sum_purchases)\n",
        "median_np"
      ],
      "metadata": {
        "colab": {
          "base_uri": "https://localhost:8080/"
        },
        "id": "2YKYgcdQvl31",
        "outputId": "4e1d035b-c965-4523-8852-38ec759c0a1d"
      },
      "execution_count": 10,
      "outputs": [
        {
          "output_type": "execute_result",
          "data": {
            "text/plain": [
              "319.0"
            ]
          },
          "metadata": {},
          "execution_count": 10
        }
      ]
    },
    {
      "cell_type": "markdown",
      "source": [
        "\n",
        "\n",
        "> Результати співпадають\n",
        "\n"
      ],
      "metadata": {
        "id": "sWO_9ZLvv2LQ"
      }
    },
    {
      "cell_type": "markdown",
      "source": [
        "**Завдання 4**. Обчислість стандартне відхилення наведеної вибірки в змінній `sum_purchases` кожним з зазначених методів:  \n",
        "\n",
        "  4.1. без використання жодних бібліотек, користуючись тільки Python.  \n",
        "  4.2. використовуючи відповідний метод бібліотеки numpy.  \n",
        "\n",
        "Виведіть результат обчислень в кожному з випадків на екран."
      ],
      "metadata": {
        "id": "o1Z7az2yNDQV"
      }
    },
    {
      "cell_type": "code",
      "source": [
        "# без використання жодних бібліотек\n",
        "# формула для вибірки (зі значенням 𝑛−1)\n",
        "std_sum_purchases = np.sqrt(sum([(el - mean)**2 for el in sum_purchases])/(len(sum_purchases)-1))\n",
        "std_sum_purchases"
      ],
      "metadata": {
        "id": "X4ixtmL2T642",
        "colab": {
          "base_uri": "https://localhost:8080/"
        },
        "outputId": "7c510cee-5001-4f68-a3f8-0a7abc06981d"
      },
      "execution_count": 11,
      "outputs": [
        {
          "output_type": "execute_result",
          "data": {
            "text/plain": [
              "1124.5433447451132"
            ]
          },
          "metadata": {},
          "execution_count": 11
        }
      ]
    },
    {
      "cell_type": "code",
      "source": [
        "std_sum_purchases_np = np.std(sum_purchases, ddof = 1)\n",
        "std_sum_purchases_np"
      ],
      "metadata": {
        "colab": {
          "base_uri": "https://localhost:8080/"
        },
        "id": "uxZenCJBwvz2",
        "outputId": "119b08dd-1767-40af-b1bc-7433d468f0e5"
      },
      "execution_count": 12,
      "outputs": [
        {
          "output_type": "execute_result",
          "data": {
            "text/plain": [
              "1124.5433447451132"
            ]
          },
          "metadata": {},
          "execution_count": 12
        }
      ]
    },
    {
      "cell_type": "markdown",
      "source": [
        "**Завдання 5**. Ми провели дослідження віку студентів-першокурсників. Виявилось, що\n",
        "- 10 студентів мають вік 16 років\n",
        "- 25 студентів - 17 років\n",
        "- 20 студентів - 18 років\n",
        "- 2 студенти - 20 років\n",
        "\n",
        "Обчислість середнє значення для цієї вибірки будь-яким способом - на чистому Python або з numpy - та виведіть результат на екран."
      ],
      "metadata": {
        "id": "M1ntKTjXLVlH"
      }
    },
    {
      "cell_type": "code",
      "source": [
        "students = 10*[16] + 25*[17] + 20*[18] + 2*[20]\n",
        "print(students)"
      ],
      "metadata": {
        "id": "RdIU4M-7T8R4",
        "colab": {
          "base_uri": "https://localhost:8080/"
        },
        "outputId": "912ee3f8-54ff-4376-cd70-b3bd5ef97669"
      },
      "execution_count": 13,
      "outputs": [
        {
          "output_type": "stream",
          "name": "stdout",
          "text": [
            "[16, 16, 16, 16, 16, 16, 16, 16, 16, 16, 17, 17, 17, 17, 17, 17, 17, 17, 17, 17, 17, 17, 17, 17, 17, 17, 17, 17, 17, 17, 17, 17, 17, 17, 17, 18, 18, 18, 18, 18, 18, 18, 18, 18, 18, 18, 18, 18, 18, 18, 18, 18, 18, 18, 18, 20, 20]\n"
          ]
        }
      ]
    },
    {
      "cell_type": "code",
      "source": [
        "mean_students = np.mean(students)\n",
        "mean_students = round(mean_students, 2)\n",
        "mean_students"
      ],
      "metadata": {
        "colab": {
          "base_uri": "https://localhost:8080/"
        },
        "id": "PhjHHeOPxUk7",
        "outputId": "04bcef16-276d-4d7e-fce1-686c6502213c"
      },
      "execution_count": 14,
      "outputs": [
        {
          "output_type": "execute_result",
          "data": {
            "text/plain": [
              "17.28"
            ]
          },
          "metadata": {},
          "execution_count": 14
        }
      ]
    },
    {
      "cell_type": "markdown",
      "source": [
        "**Завдання 6**. Крім даних про суму покупок, ми зібрали ще дані про кількість відвідувань кожного з кожного покупця, які знаходяться в змінній `visits`. Обчисліть коефіцієнт кореляції Пірсона для суми покупок і кількості відвідувань кожним з зазначених методів:  \n",
        "\n",
        "  6.1. без використання жодних бібліотек, користуючись тільки Python.  \n",
        "  6.2. використовуючи відповідний метод бібліотеки numpy.  \n",
        "  \n",
        "Виведіть результат на екран. Проаналізуйте результат.\n",
        "\n",
        "Виведіть додатково графік розсіювання викликавши код нижче і зробіть заключення, чи варто щось змінити при підрахунку кореляції, аби коефіцієнт Пірсона показував коректну оцінку лінійної залежності?"
      ],
      "metadata": {
        "id": "Xx8MFkkVM53z"
      }
    },
    {
      "cell_type": "markdown",
      "source": [
        "![image.png](data:image/png;base64,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)"
      ],
      "metadata": {
        "id": "IGSzaY5E2ewE"
      }
    },
    {
      "cell_type": "code",
      "source": [
        "visits = [6,  2, 10,  3,  9,  9,  2,  3,  6,  6, 10,  2,  5, 10,  3,  5,  4, 7,  4,  2]"
      ],
      "metadata": {
        "id": "4OIGBT7UOWhO"
      },
      "execution_count": 15,
      "outputs": []
    },
    {
      "cell_type": "code",
      "source": [
        "mean_sum_purchases = sum(sum_purchases) / len(sum_purchases) # повторно визначила, аби було зручніше\n",
        "mean_visits = sum(visits) / len(visits)\n",
        "mean_sum_purchases, mean_visits"
      ],
      "metadata": {
        "colab": {
          "base_uri": "https://localhost:8080/"
        },
        "id": "D38PCs-by91N",
        "outputId": "f48ca104-7c06-48de-c7bd-bd69c4d17719"
      },
      "execution_count": 16,
      "outputs": [
        {
          "output_type": "execute_result",
          "data": {
            "text/plain": [
              "(667.95, 5.4)"
            ]
          },
          "metadata": {},
          "execution_count": 16
        }
      ]
    },
    {
      "cell_type": "code",
      "source": [
        "# без використання жодних бібліотек\n",
        "\n",
        "# чисельник\n",
        "numerator = sum((sum_purchases[i] - mean_sum_purchases) * (visits[i] - mean_visits) for i in range(len(sum_purchases)))\n",
        "\n",
        "# знаменник\n",
        "denominator_x = sum((sum_purchases[i] - mean_sum_purchases) ** 2 for i in range(len(sum_purchases)))\n",
        "denominator_y = sum((visits[i] - mean_visits) ** 2 for i in range(len(visits)))\n",
        "\n",
        "corr_purch_visits = numerator / (denominator_x ** 0.5 * denominator_y ** 0.5)\n",
        "print(round(corr_purch_visits, 8))"
      ],
      "metadata": {
        "id": "YLNF7VbeT97Q",
        "colab": {
          "base_uri": "https://localhost:8080/"
        },
        "outputId": "3fa5f639-15ba-4bad-e58e-bedf6dc1740f"
      },
      "execution_count": 17,
      "outputs": [
        {
          "output_type": "stream",
          "name": "stdout",
          "text": [
            "-0.30265845\n"
          ]
        }
      ]
    },
    {
      "cell_type": "code",
      "source": [
        "corr_purch_visits_np = np.corrcoef(sum_purchases, visits)\n",
        "corr_purch_visits_np"
      ],
      "metadata": {
        "colab": {
          "base_uri": "https://localhost:8080/"
        },
        "id": "r3R1940uzXjy",
        "outputId": "4d9650bb-eb74-413b-e4a0-a716096eb76c"
      },
      "execution_count": 18,
      "outputs": [
        {
          "output_type": "execute_result",
          "data": {
            "text/plain": [
              "array([[ 1.        , -0.30265845],\n",
              "       [-0.30265845,  1.        ]])"
            ]
          },
          "metadata": {},
          "execution_count": 18
        }
      ]
    },
    {
      "cell_type": "code",
      "source": [
        "import matplotlib.pyplot as plt\n",
        "\n",
        "plt.scatter(sum_purchases, visits)\n",
        "plt.title('Scatter Plot of Purchases vs. Visits')\n",
        "plt.xlabel('Sum of Purchases')\n",
        "plt.ylabel('Number of Visits');"
      ],
      "metadata": {
        "colab": {
          "base_uri": "https://localhost:8080/",
          "height": 472
        },
        "id": "gaeoGA-5Prr1",
        "outputId": "d0908393-a082-4cf0-a4ac-f58c3dde8c08"
      },
      "execution_count": 19,
      "outputs": [
        {
          "output_type": "display_data",
          "data": {
            "text/plain": [
              "<Figure size 640x480 with 1 Axes>"
            ],
            "image/png": "[encoded data removed]"
          },
          "metadata": {}
        }
      ]
    },
    {
      "cell_type": "markdown",
      "source": [
        "\n",
        "\n",
        "*> чи варто щось змінити при підрахунку кореляції, аби коефіцієнт Пірсона показував коректну оцінку лінійної залежності?*\n",
        "\n",
        "На мою думку, для того щоб розрахувати коеф.кореляції більш точно, варто було видалити аутлаєри\n",
        "\n"
      ],
      "metadata": {
        "id": "I1T5FpLP60Xl"
      }
    },
    {
      "cell_type": "code",
      "source": [
        "# видалила 2 останні значення\n",
        "sum_purchases_new = [316,  493,  367,  153,  224,  121,  322,  450,  196,  397,  281, 239,  484,  124,  223,  448,  432,  255]\n",
        "visits_new = [6,  2, 10,  3,  9,  9,  2,  3,  6,  6, 10,  2,  5, 10,  3,  5,  4, 7]\n",
        "\n",
        "np.corrcoef(sum_purchases_new, visits_new)\n",
        "\n",
        "# і тільки потім побачила наступне завдання :)))"
      ],
      "metadata": {
        "colab": {
          "base_uri": "https://localhost:8080/"
        },
        "id": "FwtCsyVO6zVj",
        "outputId": "78bcd6b7-321f-4773-d93e-5d11e4a1abdc"
      },
      "execution_count": 20,
      "outputs": [
        {
          "output_type": "execute_result",
          "data": {
            "text/plain": [
              "array([[ 1.        , -0.36852121],\n",
              "       [-0.36852121,  1.        ]])"
            ]
          },
          "metadata": {},
          "execution_count": 20
        }
      ]
    },
    {
      "cell_type": "markdown",
      "source": [
        "**Завдання 7**. В попередньому завданні ми помітили, що викиди нам заважають отримати \"правдиве\" значення кореляції. Давайте вилучимо записи, які відповідають значенням з викидами в сумі покупок і обчисліть коеф. кореляції. Для цього поставте `threshold`, який дорінює середньому значенню + 2 стандартних вдіхилля суми покупок і всі значення, які більше за нього, будемо вважати викидами (є і інші правила для визначення викидів - з ним и познайомимось пізніше).\n",
        "\n",
        "Вилучіть значення з обох масивів і обчисліть коеф. кореляції Пірсона з допомогою `numpy` для кількості візитів і суми покупок без записів-викидів. Виведіть результат на екран, побудуйте діаграму розсіювання і проаналізуйте результат: що можемо сказати про залежність в даних?"
      ],
      "metadata": {
        "id": "4pEg0KzSQ6KA"
      }
    },
    {
      "cell_type": "code",
      "source": [
        "std_sum_purchases = np.std(sum_purchases)\n",
        "\n",
        "threshold = mean_sum_purchases + 2 * std_sum_purchases\n",
        "threshold"
      ],
      "metadata": {
        "colab": {
          "base_uri": "https://localhost:8080/"
        },
        "id": "LhFKghJ_8hDJ",
        "outputId": "0e4192af-cf32-4777-bf56-48cd872f0b87"
      },
      "execution_count": 21,
      "outputs": [
        {
          "output_type": "execute_result",
          "data": {
            "text/plain": [
              "2860.0885426108453"
            ]
          },
          "metadata": {},
          "execution_count": 21
        }
      ]
    },
    {
      "cell_type": "code",
      "source": [
        "filtered_indices = [i for i, value in enumerate(sum_purchases) if value <= threshold]\n",
        "\n",
        "sum_purchases_filtered = [sum_purchases[i] for i in filtered_indices]\n",
        "visits_filtered = [visits[i] for i in filtered_indices]\n",
        "\n",
        "print(sum_purchases_filtered)\n",
        "print(visits_filtered)"
      ],
      "metadata": {
        "colab": {
          "base_uri": "https://localhost:8080/"
        },
        "id": "k70HZ_N48hLd",
        "outputId": "69ec7874-b5cd-4eed-dcfe-dd34d38543b9"
      },
      "execution_count": 22,
      "outputs": [
        {
          "output_type": "stream",
          "name": "stdout",
          "text": [
            "[316, 493, 367, 153, 224, 121, 322, 450, 196, 397, 281, 239, 484, 124, 223, 448, 432, 255]\n",
            "[6, 2, 10, 3, 9, 9, 2, 3, 6, 6, 10, 2, 5, 10, 3, 5, 4, 7]\n"
          ]
        }
      ]
    },
    {
      "cell_type": "code",
      "source": [
        "correlation = np.corrcoef(sum_purchases_filtered, visits_filtered)\n",
        "correlation"
      ],
      "metadata": {
        "colab": {
          "base_uri": "https://localhost:8080/"
        },
        "id": "spBefjYg8hOY",
        "outputId": "43f1c783-69fa-4310-d9e1-764d039b24bd"
      },
      "execution_count": 23,
      "outputs": [
        {
          "output_type": "execute_result",
          "data": {
            "text/plain": [
              "array([[ 1.        , -0.36852121],\n",
              "       [-0.36852121,  1.        ]])"
            ]
          },
          "metadata": {},
          "execution_count": 23
        }
      ]
    },
    {
      "cell_type": "code",
      "source": [
        "plt.scatter(sum_purchases_filtered, visits_filtered)\n",
        "plt.title('Scatter Plot of Purchases vs. Visits')\n",
        "plt.xlabel('Sum of Purchases')\n",
        "plt.ylabel('Number of Visits');"
      ],
      "metadata": {
        "id": "Yj3Yfaf7UBbc",
        "colab": {
          "base_uri": "https://localhost:8080/",
          "height": 472
        },
        "outputId": "a5b9cd85-ab0a-4792-d1dd-4d859b140897"
      },
      "execution_count": 24,
      "outputs": [
        {
          "output_type": "display_data",
          "data": {
            "text/plain": [
              "<Figure size 640x480 with 1 Axes>"
            ],
            "image/png": "[encoded data removed]"
          },
          "metadata": {}
        }
      ]
    },
    {
      "cell_type": "markdown",
      "source": [
        "Без аутлаєрів змінився діапазон осей x та y, що допомагає побачити негативну кореляцію між змінними `sum_purchases` та `visits` -> залежності між сумою покупок та кількістю відвідувань не спостерігається."
      ],
      "metadata": {
        "id": "LIfYqu8a-VY5"
      }
    }
  ]
}